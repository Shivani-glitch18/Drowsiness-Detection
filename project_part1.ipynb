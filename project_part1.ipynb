{
 "cells": [
  {
   "cell_type": "code",
   "execution_count": 1,
   "id": "0e242424",
   "metadata": {},
   "outputs": [],
   "source": [
    "import os\n",
    "import glob\n",
    "import shutil\n",
    "import random\n",
    "from tqdm import tqdm"
   ]
  },
  {
   "cell_type": "markdown",
   "id": "a9cb5160",
   "metadata": {},
   "source": [
    "# subject ID: xxx\n",
    "\n",
    "image number: xxx\n",
    "\n",
    "gender: 0-male   1-famale\n",
    "\n",
    "glasses: 0-no  1-yes\n",
    "\n",
    "eye state: 0-close  1-open\n",
    "\n",
    "reflections: 0-none  1-low  2-high\n",
    "\n",
    "lighting conditions/image quality: 0-bad  1-good\n",
    "\n",
    "sensor type: 01 - RealSense SR300 640x480 02 - IDS Imaging, 1280x1024 03 - Aptina Imagin 752x480\n",
    "\n",
    "example: s001_00123_0_0_0_0_0_01.png"
   ]
  },
  {
   "cell_type": "code",
   "execution_count": 5,
   "id": "dc144577",
   "metadata": {},
   "outputs": [
    {
     "name": "stderr",
     "output_type": "stream",
     "text": [
      "0it [00:00, ?it/s]\n",
      "100%|██████████| 3242/3242 [00:11<00:00, 284.50it/s]\n",
      "100%|██████████| 1114/1114 [00:03<00:00, 296.15it/s]\n",
      "100%|██████████| 679/679 [00:02<00:00, 292.65it/s]\n",
      "100%|██████████| 1069/1069 [00:03<00:00, 299.37it/s]\n",
      "100%|██████████| 736/736 [00:02<00:00, 274.70it/s]\n",
      "100%|██████████| 1012/1012 [00:03<00:00, 297.97it/s]\n",
      "100%|██████████| 624/624 [00:02<00:00, 299.05it/s]\n",
      "100%|██████████| 832/832 [00:02<00:00, 300.82it/s]\n",
      "100%|██████████| 387/387 [00:01<00:00, 296.31it/s]\n",
      "100%|██████████| 399/399 [00:01<00:00, 296.95it/s]\n",
      "100%|██████████| 1648/1648 [00:05<00:00, 286.04it/s]\n",
      "100%|██████████| 8728/8728 [00:29<00:00, 295.30it/s]\n",
      "100%|██████████| 3605/3605 [00:12<00:00, 293.88it/s]\n",
      "100%|██████████| 8884/8884 [00:30<00:00, 292.36it/s]\n",
      "100%|██████████| 1132/1132 [00:03<00:00, 300.41it/s]\n",
      "100%|██████████| 1889/1889 [00:06<00:00, 285.73it/s]\n",
      "100%|██████████| 1648/1648 [00:05<00:00, 299.95it/s]\n",
      "100%|██████████| 4410/4410 [00:15<00:00, 293.05it/s]\n",
      "100%|██████████| 6175/6175 [00:20<00:00, 296.01it/s]\n",
      "100%|██████████| 704/704 [00:02<00:00, 273.62it/s]\n",
      "100%|██████████| 987/987 [00:03<00:00, 290.30it/s]\n",
      "100%|██████████| 382/382 [00:01<00:00, 299.49it/s]\n",
      "100%|██████████| 522/522 [00:01<00:00, 292.15it/s]\n",
      "100%|██████████| 752/752 [00:02<00:00, 298.35it/s]\n",
      "100%|██████████| 1502/1502 [00:05<00:00, 281.83it/s]\n",
      "100%|██████████| 1246/1246 [00:04<00:00, 257.27it/s]\n",
      "100%|██████████| 665/665 [00:02<00:00, 290.63it/s]\n",
      "100%|██████████| 736/736 [00:02<00:00, 295.27it/s]\n",
      "100%|██████████| 1393/1393 [00:04<00:00, 293.46it/s]\n",
      "100%|██████████| 1384/1384 [00:05<00:00, 274.12it/s]\n",
      "100%|██████████| 1738/1738 [00:05<00:00, 297.23it/s]\n",
      "100%|██████████| 6162/6162 [00:21<00:00, 290.44it/s]\n",
      "100%|██████████| 681/681 [00:02<00:00, 288.00it/s]\n",
      "100%|██████████| 739/739 [00:02<00:00, 274.04it/s]\n",
      "100%|██████████| 642/642 [00:02<00:00, 300.17it/s]\n",
      "100%|██████████| 6193/6193 [00:21<00:00, 292.64it/s]\n",
      "100%|██████████| 10257/10257 [00:36<00:00, 282.66it/s]\n"
     ]
    }
   ],
   "source": [
    "raw_data = 'C:/Users/rajat/OneDrive/Desktop/drowsiness/mrlEyes_2018_01'\n",
    "for dirpath, dirname, filename in os.walk(raw_data):\n",
    "    for file in tqdm([f for f in filename if f.endswith('.png')]):\n",
    "        if file.split('_')[4] == '0':\n",
    "            path='C:/Users/rajat/OneDrive/Desktop/drowsiness/data/train/closed'\n",
    "            if not os.path.exists(path):\n",
    "                os.makedirs(path)\n",
    "            shutil.copy(src=dirpath + '/' + file, dst= path)\n",
    "        elif file.split('_')[4] == '1':\n",
    "            path='C:/Users/rajat/OneDrive/Desktop/drowsiness/data/train/open'\n",
    "            if not os.path.exists(path):\n",
    "                os.makedirs(path)\n",
    "            shutil.copy(src=dirpath + '/' + file, dst= path)    "
   ]
  },
  {
   "cell_type": "code",
   "execution_count": 6,
   "id": "07b36ee0",
   "metadata": {},
   "outputs": [],
   "source": [
    "def create_test_closed(source, destination, percent):\n",
    "    '''\n",
    "    divides closed eyes images into given percent and moves from\n",
    "    source to destination.\n",
    "    \n",
    "    Arguments:\n",
    "    source(path): path of source directory\n",
    "    destination(path): path of destination directory\n",
    "    percent(float): percent of data to be divided(range: 0 to 1)\n",
    "    '''\n",
    "    path, dirs, files_closed = next(os.walk(source))\n",
    "    file_count_closed = len(files_closed)\n",
    "    percentage = file_count_closed * percent\n",
    "    to_move = random.sample(glob.glob(source + \"/*.png\"), int(percentage))\n",
    "\n",
    "    for f in enumerate(to_move):\n",
    "        if not os.path.exists(destination):\n",
    "            os.makedirs(destination)\n",
    "        shutil.move(f[1], destination)\n",
    "    print(f'moved {int(percentage)} images to the destination successfully.')    "
   ]
  },
  {
   "cell_type": "code",
   "execution_count": 7,
   "id": "5d92fb79",
   "metadata": {},
   "outputs": [],
   "source": [
    "def create_test_open(source, destination, percent):\n",
    "    '''\n",
    "    divides open eyes images into given percent and moves from\n",
    "    source to destination.\n",
    "    \n",
    "    Arguments:\n",
    "    source(path): path of source directory\n",
    "    destination(path): path of destination directory\n",
    "    percent(float): percent of data to be divided(range: 0 to 1)\n",
    "    '''\n",
    "    path, dirs, files_open = next(os.walk(source))\n",
    "    file_count_open = len(files_open)\n",
    "    percentage = file_count_open * percent\n",
    "    to_move = random.sample(glob.glob(source + \"/*.png\"), int(percentage))\n",
    "\n",
    "    for f in enumerate(to_move):\n",
    "        if not os.path.exists(destination):\n",
    "            os.makedirs(destination)\n",
    "        shutil.move(f[1], destination)\n",
    "    print(f'moved {int(percentage)} images to the destination successfully.')"
   ]
  },
  {
   "cell_type": "markdown",
   "id": "5ec5eb4c",
   "metadata": {},
   "source": [
    "# Moving 20% of data from train to test dataset"
   ]
  },
  {
   "cell_type": "code",
   "execution_count": 8,
   "id": "a842e657",
   "metadata": {},
   "outputs": [
    {
     "name": "stdout",
     "output_type": "stream",
     "text": [
      "moved 8389 images to the destination successfully.\n"
     ]
    }
   ],
   "source": [
    "create_test_closed('C:/Users/rajat/OneDrive/Desktop/drowsiness/data/train/closed', \n",
    "                    'C:/Users/rajat/OneDrive/Desktop/drowsiness/data/test/closed', \n",
    "                    0.2)"
   ]
  },
  {
   "cell_type": "code",
   "execution_count": 9,
   "id": "ab79547d",
   "metadata": {},
   "outputs": [
    {
     "name": "stdout",
     "output_type": "stream",
     "text": [
      "moved 8590 images to the destination successfully.\n"
     ]
    }
   ],
   "source": [
    "create_test_open('C:/Users/rajat/OneDrive/Desktop/drowsiness/data/train/open', \n",
    "                    'C:/Users/rajat/OneDrive/Desktop/drowsiness/data/test/open', \n",
    "                    0.2)"
   ]
  },
  {
   "cell_type": "code",
   "execution_count": null,
   "id": "068c6628",
   "metadata": {},
   "outputs": [],
   "source": []
  }
 ],
 "metadata": {
  "kernelspec": {
   "display_name": "Python 3 (ipykernel)",
   "language": "python",
   "name": "python3"
  },
  "language_info": {
   "codemirror_mode": {
    "name": "ipython",
    "version": 3
   },
   "file_extension": ".py",
   "mimetype": "text/x-python",
   "name": "python",
   "nbconvert_exporter": "python",
   "pygments_lexer": "ipython3",
   "version": "3.11.7"
  }
 },
 "nbformat": 4,
 "nbformat_minor": 5
}
